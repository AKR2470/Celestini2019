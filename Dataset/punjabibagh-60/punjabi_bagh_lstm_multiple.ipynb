{
 "cells": [
  {
   "cell_type": "code",
   "execution_count": 186,
   "metadata": {},
   "outputs": [],
   "source": [
    "from sklearn.preprocessing import StandardScaler, MinMaxScaler\n",
    "from sklearn.metrics import mean_squared_log_error, mean_squared_error\n",
    "import re\n",
    "import datetime\n",
    "import tqdm\n",
    "\n",
    "import tensorflow as tf\n",
    "import keras.backend.tensorflow_backend as ktf\n",
    "from keras.models import *\n",
    "from keras.layers import *\n",
    "from keras.layers.core import Lambda\n",
    "from keras import backend as K\n",
    "from keras.callbacks import EarlyStopping, TensorBoard\n",
    "\n",
    "%matplotlib inline\n",
    "from numpy import concatenate\n",
    "import numpy as np\n",
    "import pandas as pd\n",
    "import matplotlib.pyplot as plt\n",
    "import datetime\n",
    "import keras\n",
    "from time import time\n",
    "#from tensorflow.python.keras.callbacks import TensorBoard\n"
   ]
  },
  {
   "cell_type": "code",
   "execution_count": 2,
   "metadata": {},
   "outputs": [
    {
     "data": {
      "text/html": [
       "<div>\n",
       "<style scoped>\n",
       "    .dataframe tbody tr th:only-of-type {\n",
       "        vertical-align: middle;\n",
       "    }\n",
       "\n",
       "    .dataframe tbody tr th {\n",
       "        vertical-align: top;\n",
       "    }\n",
       "\n",
       "    .dataframe thead th {\n",
       "        text-align: right;\n",
       "    }\n",
       "</style>\n",
       "<table border=\"1\" class=\"dataframe\">\n",
       "  <thead>\n",
       "    <tr style=\"text-align: right;\">\n",
       "      <th></th>\n",
       "      <th>timestamp</th>\n",
       "      <th>AT</th>\n",
       "      <th>BP</th>\n",
       "      <th>CO</th>\n",
       "      <th>NO</th>\n",
       "      <th>NO2</th>\n",
       "      <th>Ozone</th>\n",
       "      <th>PM10</th>\n",
       "      <th>PM2.5</th>\n",
       "      <th>RH</th>\n",
       "      <th>...</th>\n",
       "      <th>mt</th>\n",
       "      <th>yr</th>\n",
       "      <th>H</th>\n",
       "      <th>weekday</th>\n",
       "      <th>weekday_hour</th>\n",
       "      <th>m_weekday_CO</th>\n",
       "      <th>m_weekday_NO2</th>\n",
       "      <th>m_weekday_PM10</th>\n",
       "      <th>m_weekday_PM2.5</th>\n",
       "      <th>m_weekday_SO2</th>\n",
       "    </tr>\n",
       "  </thead>\n",
       "  <tbody>\n",
       "    <tr>\n",
       "      <th>30358</th>\n",
       "      <td>18-06-2019 12:00</td>\n",
       "      <td>31.80</td>\n",
       "      <td>734.66</td>\n",
       "      <td>0.62</td>\n",
       "      <td>3.77</td>\n",
       "      <td>25.20</td>\n",
       "      <td>42.05</td>\n",
       "      <td>55.25</td>\n",
       "      <td>5.0</td>\n",
       "      <td>7.15</td>\n",
       "      <td>...</td>\n",
       "      <td>6</td>\n",
       "      <td>2019</td>\n",
       "      <td>12</td>\n",
       "      <td>1</td>\n",
       "      <td>1 12</td>\n",
       "      <td>1.285285</td>\n",
       "      <td>76.097257</td>\n",
       "      <td>289.495507</td>\n",
       "      <td>102.231934</td>\n",
       "      <td>27.031637</td>\n",
       "    </tr>\n",
       "    <tr>\n",
       "      <th>30359</th>\n",
       "      <td>18-06-2019 13:00</td>\n",
       "      <td>34.12</td>\n",
       "      <td>734.59</td>\n",
       "      <td>0.57</td>\n",
       "      <td>2.80</td>\n",
       "      <td>21.35</td>\n",
       "      <td>57.18</td>\n",
       "      <td>53.00</td>\n",
       "      <td>5.0</td>\n",
       "      <td>25.18</td>\n",
       "      <td>...</td>\n",
       "      <td>6</td>\n",
       "      <td>2019</td>\n",
       "      <td>13</td>\n",
       "      <td>1</td>\n",
       "      <td>1 13</td>\n",
       "      <td>1.188288</td>\n",
       "      <td>70.708939</td>\n",
       "      <td>263.392609</td>\n",
       "      <td>91.498155</td>\n",
       "      <td>21.339851</td>\n",
       "    </tr>\n",
       "    <tr>\n",
       "      <th>30360</th>\n",
       "      <td>18-06-2019 14:00</td>\n",
       "      <td>30.77</td>\n",
       "      <td>734.19</td>\n",
       "      <td>0.62</td>\n",
       "      <td>3.07</td>\n",
       "      <td>21.48</td>\n",
       "      <td>54.50</td>\n",
       "      <td>59.75</td>\n",
       "      <td>5.0</td>\n",
       "      <td>36.53</td>\n",
       "      <td>...</td>\n",
       "      <td>6</td>\n",
       "      <td>2019</td>\n",
       "      <td>14</td>\n",
       "      <td>1</td>\n",
       "      <td>1 14</td>\n",
       "      <td>1.150249</td>\n",
       "      <td>67.728244</td>\n",
       "      <td>245.873966</td>\n",
       "      <td>86.110025</td>\n",
       "      <td>18.860570</td>\n",
       "    </tr>\n",
       "    <tr>\n",
       "      <th>30361</th>\n",
       "      <td>18-06-2019 15:00</td>\n",
       "      <td>30.55</td>\n",
       "      <td>734.31</td>\n",
       "      <td>0.60</td>\n",
       "      <td>2.42</td>\n",
       "      <td>16.48</td>\n",
       "      <td>60.30</td>\n",
       "      <td>74.75</td>\n",
       "      <td>36.0</td>\n",
       "      <td>34.27</td>\n",
       "      <td>...</td>\n",
       "      <td>6</td>\n",
       "      <td>2019</td>\n",
       "      <td>15</td>\n",
       "      <td>1</td>\n",
       "      <td>1 15</td>\n",
       "      <td>1.095586</td>\n",
       "      <td>66.485506</td>\n",
       "      <td>235.008296</td>\n",
       "      <td>83.792890</td>\n",
       "      <td>19.301219</td>\n",
       "    </tr>\n",
       "    <tr>\n",
       "      <th>30362</th>\n",
       "      <td>18-06-2019 16:00</td>\n",
       "      <td>29.77</td>\n",
       "      <td>734.25</td>\n",
       "      <td>0.67</td>\n",
       "      <td>2.60</td>\n",
       "      <td>19.88</td>\n",
       "      <td>62.97</td>\n",
       "      <td>59.00</td>\n",
       "      <td>36.0</td>\n",
       "      <td>0.90</td>\n",
       "      <td>...</td>\n",
       "      <td>6</td>\n",
       "      <td>2019</td>\n",
       "      <td>16</td>\n",
       "      <td>1</td>\n",
       "      <td>1 16</td>\n",
       "      <td>1.060692</td>\n",
       "      <td>66.115734</td>\n",
       "      <td>215.824568</td>\n",
       "      <td>78.693864</td>\n",
       "      <td>16.740879</td>\n",
       "    </tr>\n",
       "  </tbody>\n",
       "</table>\n",
       "<p>5 rows × 25 columns</p>\n",
       "</div>"
      ],
      "text/plain": [
       "              timestamp     AT      BP    CO    NO    NO2  Ozone   PM10  \\\n",
       "30358  18-06-2019 12:00  31.80  734.66  0.62  3.77  25.20  42.05  55.25   \n",
       "30359  18-06-2019 13:00  34.12  734.59  0.57  2.80  21.35  57.18  53.00   \n",
       "30360  18-06-2019 14:00  30.77  734.19  0.62  3.07  21.48  54.50  59.75   \n",
       "30361  18-06-2019 15:00  30.55  734.31  0.60  2.42  16.48  60.30  74.75   \n",
       "30362  18-06-2019 16:00  29.77  734.25  0.67  2.60  19.88  62.97  59.00   \n",
       "\n",
       "       PM2.5     RH      ...       mt    yr   H  weekday  weekday_hour  \\\n",
       "30358    5.0   7.15      ...        6  2019  12        1          1 12   \n",
       "30359    5.0  25.18      ...        6  2019  13        1          1 13   \n",
       "30360    5.0  36.53      ...        6  2019  14        1          1 14   \n",
       "30361   36.0  34.27      ...        6  2019  15        1          1 15   \n",
       "30362   36.0   0.90      ...        6  2019  16        1          1 16   \n",
       "\n",
       "       m_weekday_CO  m_weekday_NO2  m_weekday_PM10  m_weekday_PM2.5  \\\n",
       "30358      1.285285      76.097257      289.495507       102.231934   \n",
       "30359      1.188288      70.708939      263.392609        91.498155   \n",
       "30360      1.150249      67.728244      245.873966        86.110025   \n",
       "30361      1.095586      66.485506      235.008296        83.792890   \n",
       "30362      1.060692      66.115734      215.824568        78.693864   \n",
       "\n",
       "      m_weekday_SO2  \n",
       "30358     27.031637  \n",
       "30359     21.339851  \n",
       "30360     18.860570  \n",
       "30361     19.301219  \n",
       "30362     16.740879  \n",
       "\n",
       "[5 rows x 25 columns]"
      ]
     },
     "execution_count": 2,
     "metadata": {},
     "output_type": "execute_result"
    }
   ],
   "source": [
    "##################Quantile losss ###########################\n",
    "dataset_3_further_interpolated = pd.read_csv(\"H:\\Celestini 2019\\Dataset\\punjabibagh-60\\dataset_3_further_interpolated.csv\")   \n",
    "#dataset = dataset_3_further_interpolated_with_indexes.set_index([\"To Date\"])\n",
    "#dataset.index = pd.to_datetime(dataset_3_further_interpolated_with_indexes[\"To Date\"], dayfirst= True )\n",
    "#dataset.head()\n",
    "dataset_3_further_interpolated = dataset_3_further_interpolated.drop(\"Unnamed: 0\", axis = 1)\n",
    "dataset_3_further_interpolated = dataset_3_further_interpolated.loc[:30362, :]\n",
    "dataset_3_further_interpolated.tail()"
   ]
  },
  {
   "cell_type": "code",
   "execution_count": 3,
   "metadata": {},
   "outputs": [
    {
     "name": "stdout",
     "output_type": "stream",
     "text": [
      "Index(['timestamp', 'AT', 'BP', 'CO', 'NO', 'NO2', 'Ozone', 'PM10', 'PM2.5',\n",
      "       'RH', 'SO2', 'SR', 'WD', 'WS', 'd', 'mt', 'yr', 'H', 'weekday',\n",
      "       'weekday_hour', 'm_weekday_CO', 'm_weekday_NO2', 'm_weekday_PM10',\n",
      "       'm_weekday_PM2.5', 'm_weekday_SO2'],\n",
      "      dtype='object')\n"
     ]
    }
   ],
   "source": [
    "print(dataset_3_further_interpolated.columns)"
   ]
  },
  {
   "cell_type": "code",
   "execution_count": 4,
   "metadata": {},
   "outputs": [
    {
     "data": {
      "text/plain": [
       "False"
      ]
     },
     "execution_count": 4,
     "metadata": {},
     "output_type": "execute_result"
    }
   ],
   "source": [
    "dataset_3_further_interpolated[['AT', 'BP', 'CO', 'NO', 'NO2', 'Ozone', 'PM10', 'PM2.5',\n",
    "       'RH', 'SO2', 'SR', 'WD', 'WS', 'd', 'mt', 'yr', 'H', 'weekday']].isnull().values.any()"
   ]
  },
  {
   "cell_type": "code",
   "execution_count": 109,
   "metadata": {},
   "outputs": [],
   "source": [
    "values = dataset_3_further_interpolated[['AT', 'BP', 'CO', 'NO', 'NO2', 'Ozone', 'PM10', 'PM2.5',\n",
    "       'RH', 'SO2', 'SR', 'WD', 'WS', 'd', 'mt', 'yr', 'H', 'weekday']].values\n",
    "values = values.astype('float32')\n",
    "\n",
    "# normalize features\n",
    "#scaler = MinMaxScaler(feature_range=(0, 1))\n",
    "scaler = StandardScaler()\n",
    "scaled = scaler.fit_transform(values)\n"
   ]
  },
  {
   "cell_type": "code",
   "execution_count": 107,
   "metadata": {},
   "outputs": [
    {
     "data": {
      "text/plain": [
       "(30363, 18)"
      ]
     },
     "execution_count": 107,
     "metadata": {},
     "output_type": "execute_result"
    }
   ],
   "source": [
    "scaled.shape"
   ]
  },
  {
   "cell_type": "code",
   "execution_count": 7,
   "metadata": {},
   "outputs": [
    {
     "data": {
      "text/html": [
       "<div>\n",
       "<style scoped>\n",
       "    .dataframe tbody tr th:only-of-type {\n",
       "        vertical-align: middle;\n",
       "    }\n",
       "\n",
       "    .dataframe tbody tr th {\n",
       "        vertical-align: top;\n",
       "    }\n",
       "\n",
       "    .dataframe thead th {\n",
       "        text-align: right;\n",
       "    }\n",
       "</style>\n",
       "<table border=\"1\" class=\"dataframe\">\n",
       "  <thead>\n",
       "    <tr style=\"text-align: right;\">\n",
       "      <th></th>\n",
       "      <th>AT</th>\n",
       "      <th>BP</th>\n",
       "      <th>CO</th>\n",
       "      <th>NO</th>\n",
       "      <th>NO2</th>\n",
       "      <th>Ozone</th>\n",
       "      <th>PM10</th>\n",
       "      <th>PM2.5</th>\n",
       "      <th>RH</th>\n",
       "      <th>SO2</th>\n",
       "      <th>SR</th>\n",
       "      <th>WD</th>\n",
       "      <th>WS</th>\n",
       "      <th>d</th>\n",
       "      <th>mt</th>\n",
       "      <th>yr</th>\n",
       "      <th>H</th>\n",
       "      <th>weekday</th>\n",
       "    </tr>\n",
       "  </thead>\n",
       "  <tbody>\n",
       "    <tr>\n",
       "      <th>15</th>\n",
       "      <td>-0.315336</td>\n",
       "      <td>0.517595</td>\n",
       "      <td>-0.772399</td>\n",
       "      <td>-0.529057</td>\n",
       "      <td>-0.187540</td>\n",
       "      <td>4.090508</td>\n",
       "      <td>0.003834</td>\n",
       "      <td>0.060357</td>\n",
       "      <td>-1.039402</td>\n",
       "      <td>-1.064659</td>\n",
       "      <td>-0.313209</td>\n",
       "      <td>0.602607</td>\n",
       "      <td>-0.570433</td>\n",
       "      <td>-1.664085</td>\n",
       "      <td>-1.47996</td>\n",
       "      <td>-1.241271</td>\n",
       "      <td>0.650686</td>\n",
       "      <td>0.49947</td>\n",
       "    </tr>\n",
       "    <tr>\n",
       "      <th>16</th>\n",
       "      <td>-0.553935</td>\n",
       "      <td>0.517595</td>\n",
       "      <td>-0.104127</td>\n",
       "      <td>-0.481852</td>\n",
       "      <td>0.774903</td>\n",
       "      <td>1.299868</td>\n",
       "      <td>-0.163321</td>\n",
       "      <td>0.151712</td>\n",
       "      <td>-0.465820</td>\n",
       "      <td>-0.180850</td>\n",
       "      <td>-0.530545</td>\n",
       "      <td>-1.262334</td>\n",
       "      <td>-0.493235</td>\n",
       "      <td>-1.664085</td>\n",
       "      <td>-1.47996</td>\n",
       "      <td>-1.241271</td>\n",
       "      <td>0.795168</td>\n",
       "      <td>0.49947</td>\n",
       "    </tr>\n",
       "    <tr>\n",
       "      <th>17</th>\n",
       "      <td>-0.971806</td>\n",
       "      <td>0.517595</td>\n",
       "      <td>0.671684</td>\n",
       "      <td>-0.224101</td>\n",
       "      <td>1.172415</td>\n",
       "      <td>-0.512780</td>\n",
       "      <td>0.726746</td>\n",
       "      <td>0.966689</td>\n",
       "      <td>0.099480</td>\n",
       "      <td>-0.371556</td>\n",
       "      <td>-0.666646</td>\n",
       "      <td>1.118112</td>\n",
       "      <td>-0.866359</td>\n",
       "      <td>-1.664085</td>\n",
       "      <td>-1.47996</td>\n",
       "      <td>-1.241271</td>\n",
       "      <td>0.939649</td>\n",
       "      <td>0.49947</td>\n",
       "    </tr>\n",
       "    <tr>\n",
       "      <th>18</th>\n",
       "      <td>-1.236200</td>\n",
       "      <td>0.517595</td>\n",
       "      <td>2.031273</td>\n",
       "      <td>1.421856</td>\n",
       "      <td>1.441248</td>\n",
       "      <td>-0.631857</td>\n",
       "      <td>1.023435</td>\n",
       "      <td>0.995662</td>\n",
       "      <td>0.448910</td>\n",
       "      <td>-0.199989</td>\n",
       "      <td>-0.680266</td>\n",
       "      <td>1.026385</td>\n",
       "      <td>-0.866359</td>\n",
       "      <td>-1.664085</td>\n",
       "      <td>-1.47996</td>\n",
       "      <td>-1.241271</td>\n",
       "      <td>1.084130</td>\n",
       "      <td>0.49947</td>\n",
       "    </tr>\n",
       "    <tr>\n",
       "      <th>19</th>\n",
       "      <td>-1.336798</td>\n",
       "      <td>0.517595</td>\n",
       "      <td>3.129697</td>\n",
       "      <td>3.869777</td>\n",
       "      <td>1.674502</td>\n",
       "      <td>-0.626515</td>\n",
       "      <td>1.479328</td>\n",
       "      <td>1.249456</td>\n",
       "      <td>0.630096</td>\n",
       "      <td>0.154081</td>\n",
       "      <td>-0.681908</td>\n",
       "      <td>1.105008</td>\n",
       "      <td>-0.853492</td>\n",
       "      <td>-1.664085</td>\n",
       "      <td>-1.47996</td>\n",
       "      <td>-1.241271</td>\n",
       "      <td>1.228611</td>\n",
       "      <td>0.49947</td>\n",
       "    </tr>\n",
       "    <tr>\n",
       "      <th>20</th>\n",
       "      <td>-1.397415</td>\n",
       "      <td>0.517595</td>\n",
       "      <td>3.106653</td>\n",
       "      <td>6.778622</td>\n",
       "      <td>1.712574</td>\n",
       "      <td>-0.601587</td>\n",
       "      <td>2.008443</td>\n",
       "      <td>1.249456</td>\n",
       "      <td>0.833024</td>\n",
       "      <td>0.210131</td>\n",
       "      <td>-0.682681</td>\n",
       "      <td>0.888795</td>\n",
       "      <td>-0.724829</td>\n",
       "      <td>-1.664085</td>\n",
       "      <td>-1.47996</td>\n",
       "      <td>-1.241271</td>\n",
       "      <td>1.373092</td>\n",
       "      <td>0.49947</td>\n",
       "    </tr>\n",
       "  </tbody>\n",
       "</table>\n",
       "</div>"
      ],
      "text/plain": [
       "          AT        BP        CO        NO       NO2     Ozone      PM10  \\\n",
       "15 -0.315336  0.517595 -0.772399 -0.529057 -0.187540  4.090508  0.003834   \n",
       "16 -0.553935  0.517595 -0.104127 -0.481852  0.774903  1.299868 -0.163321   \n",
       "17 -0.971806  0.517595  0.671684 -0.224101  1.172415 -0.512780  0.726746   \n",
       "18 -1.236200  0.517595  2.031273  1.421856  1.441248 -0.631857  1.023435   \n",
       "19 -1.336798  0.517595  3.129697  3.869777  1.674502 -0.626515  1.479328   \n",
       "20 -1.397415  0.517595  3.106653  6.778622  1.712574 -0.601587  2.008443   \n",
       "\n",
       "       PM2.5        RH       SO2        SR        WD        WS         d  \\\n",
       "15  0.060357 -1.039402 -1.064659 -0.313209  0.602607 -0.570433 -1.664085   \n",
       "16  0.151712 -0.465820 -0.180850 -0.530545 -1.262334 -0.493235 -1.664085   \n",
       "17  0.966689  0.099480 -0.371556 -0.666646  1.118112 -0.866359 -1.664085   \n",
       "18  0.995662  0.448910 -0.199989 -0.680266  1.026385 -0.866359 -1.664085   \n",
       "19  1.249456  0.630096  0.154081 -0.681908  1.105008 -0.853492 -1.664085   \n",
       "20  1.249456  0.833024  0.210131 -0.682681  0.888795 -0.724829 -1.664085   \n",
       "\n",
       "         mt        yr         H  weekday  \n",
       "15 -1.47996 -1.241271  0.650686  0.49947  \n",
       "16 -1.47996 -1.241271  0.795168  0.49947  \n",
       "17 -1.47996 -1.241271  0.939649  0.49947  \n",
       "18 -1.47996 -1.241271  1.084130  0.49947  \n",
       "19 -1.47996 -1.241271  1.228611  0.49947  \n",
       "20 -1.47996 -1.241271  1.373092  0.49947  "
      ]
     },
     "execution_count": 7,
     "metadata": {},
     "output_type": "execute_result"
    }
   ],
   "source": [
    "features = pd.DataFrame(scaled, columns=['AT', 'BP', 'CO', 'NO', 'NO2', 'Ozone', 'PM10', 'PM2.5',\n",
    "       'RH', 'SO2', 'SR', 'WD', 'WS', 'd', 'mt', 'yr', 'H', 'weekday'])\n",
    "features.loc[15:20] #see .loc includes both the indexes"
   ]
  },
  {
   "cell_type": "code",
   "execution_count": 8,
   "metadata": {},
   "outputs": [],
   "source": [
    "### CREATE GENERATOR FOR LSTM with multiple features###\n",
    "\n",
    "sequence_length = 24\n",
    "\n",
    "def gen_index_multiple(id_df, seq_length, seq_cols):\n",
    "\n",
    "    data_matrix =  id_df[seq_cols]\n",
    "    num_elements = data_matrix.shape[0]\n",
    "\n",
    "    for start, stop in zip(range(0, (num_elements - seq_length), 1), range(seq_length, num_elements, 1)):\n",
    "        \n",
    "        yield data_matrix[(stop - sequence_length):stop].values.reshape((-1,len(seq_cols)))"
   ]
  },
  {
   "cell_type": "code",
   "execution_count": 9,
   "metadata": {},
   "outputs": [
    {
     "name": "stdout",
     "output_type": "stream",
     "text": [
      "(30339, 24, 18)\n"
     ]
    }
   ],
   "source": [
    "### CREATE AND STANDARDIZE DATA FOR LSTM  with multiple features### \n",
    "def standardize_data_multiple(dataset_3_further_interpolated, sequence_length, seq_cols_name, seq_cols_m_weekday = None):\n",
    "    cnt, mean = [], []\n",
    "    for sequence in gen_index_multiple(dataset_3_further_interpolated, sequence_length, seq_cols_name):\n",
    "        cnt.append(sequence)\n",
    "    \n",
    "    \n",
    "    cnt = np.array(cnt)\n",
    "    print(cnt.shape)\n",
    "    return cnt\n",
    "\n",
    "multiple_columns = ['AT', 'BP', 'CO', 'NO', 'NO2', 'Ozone', 'PM10', 'PM2.5',\n",
    "       'RH', 'SO2', 'SR', 'WD', 'WS', 'd', 'mt', 'yr', 'H', 'weekday']\n",
    "\n",
    "cnt_multiple = standardize_data_multiple(features, sequence_length, multiple_columns)\n"
   ]
  },
  {
   "cell_type": "code",
   "execution_count": 64,
   "metadata": {},
   "outputs": [
    {
     "data": {
      "text/plain": [
       "(30363, 18)"
      ]
     },
     "execution_count": 64,
     "metadata": {},
     "output_type": "execute_result"
    }
   ],
   "source": [
    "features.values.shape"
   ]
  },
  {
   "cell_type": "code",
   "execution_count": 11,
   "metadata": {},
   "outputs": [
    {
     "name": "stdout",
     "output_type": "stream",
     "text": [
      "(30339, 5)\n"
     ]
    }
   ],
   "source": [
    "### CREATE AND STANDARDIZE LABEL FOR LSTM with multiple features ###\n",
    "label_multiple = features[['CO', 'NO2', 'PM10', 'PM2.5', 'SO2']][sequence_length:].values\n",
    "print(label_multiple.shape)"
   ]
  },
  {
   "cell_type": "code",
   "execution_count": 12,
   "metadata": {},
   "outputs": [],
   "source": [
    "#DEFINE quantile loss\n",
    "def q_loss(q,y,f):\n",
    "    e = (y-f)\n",
    "    return K.mean(K.maximum(q*e, (q-1)*e), axis=-1)"
   ]
  },
  {
   "cell_type": "code",
   "execution_count": 13,
   "metadata": {},
   "outputs": [],
   "source": [
    "X_train_multiple, X_test_multiple = cnt_multiple[:22000], cnt_multiple[22000:]\n",
    "y_train_multiple, y_test_multiple = label_multiple[:22000], label_multiple[22000:]"
   ]
  },
  {
   "cell_type": "code",
   "execution_count": 89,
   "metadata": {},
   "outputs": [
    {
     "name": "stdout",
     "output_type": "stream",
     "text": [
      "(8339, 24, 18)\n",
      "(8339, 5)\n"
     ]
    }
   ],
   "source": [
    "print(X_test_multiple.shape)\n",
    "print(y_test_multiple.shape)"
   ]
  },
  {
   "cell_type": "code",
   "execution_count": 97,
   "metadata": {},
   "outputs": [
    {
     "name": "stdout",
     "output_type": "stream",
     "text": [
      "[ 6.9451791e-01  4.6072817e-01 -6.4949858e-01 -1.6900755e-01\n",
      " -3.8588122e-01 -5.7109410e-01 -9.7179890e-01 -6.4508098e-01\n",
      "  5.9385842e-01 -1.0892656e+00 -3.6681852e-01  1.1181121e+00\n",
      " -8.6635858e-01 -1.2089652e+00  2.6322159e-01  7.1929812e-01\n",
      " -6.4964414e-01 -6.5861481e-05]\n",
      "[ 6.9451791e-01  4.6072817e-01 -6.4949858e-01 -1.6900755e-01\n",
      " -3.8588122e-01 -5.7109410e-01 -9.7179890e-01 -6.4508098e-01\n",
      "  5.9385842e-01 -1.0892656e+00 -3.6681852e-01  1.1181121e+00\n",
      " -8.6635858e-01 -1.2089652e+00  2.6322159e-01  7.1929812e-01\n",
      " -6.4964414e-01 -6.5861481e-05]\n"
     ]
    },
    {
     "data": {
      "text/plain": [
       "array([ 6.9451791e-01,  4.6072817e-01, -6.4949858e-01, -1.6900755e-01,\n",
       "       -3.8588122e-01, -5.7109410e-01, -9.7179890e-01, -6.4508098e-01,\n",
       "        5.9385842e-01, -1.0892656e+00, -3.6681852e-01,  1.1181121e+00,\n",
       "       -8.6635858e-01, -1.2089652e+00,  2.6322159e-01,  7.1929812e-01,\n",
       "       -6.4964414e-01, -6.5861481e-05], dtype=float32)"
      ]
     },
     "execution_count": 97,
     "metadata": {},
     "output_type": "execute_result"
    }
   ],
   "source": [
    "print(X_test_multiple[0,1,:])\n",
    "print(X_test_multiple[1,0,:])\n",
    "X_test = []\n",
    "for i in range(8339):\n",
    "    X_test.append(X_test_multiple[i, 0, :])\n",
    "X_test = np.array(X_test)\n",
    "X_test[1]"
   ]
  },
  {
   "cell_type": "code",
   "execution_count": 15,
   "metadata": {},
   "outputs": [],
   "source": [
    "def get_session(gpu_fraction=0.5):\n",
    "    gpu_options = tf.GPUOptions(per_process_gpu_memory_fraction=gpu_fraction,\n",
    "                                allow_growth=True)\n",
    "    return tf.Session(config=tf.ConfigProto(gpu_options=gpu_options))\n",
    "\n",
    "\n",
    "ktf.set_session(get_session())"
   ]
  },
  {
   "cell_type": "code",
   "execution_count": 16,
   "metadata": {},
   "outputs": [],
   "source": [
    "### CREATE MODEL using Keras Functional API ###\n",
    "losses = [lambda y,f: q_loss(0.1,y,f), lambda y,f: q_loss(0.5,y,f), lambda y,f: q_loss(0.9,y,f)]\n",
    "\n",
    "inputs = Input(shape=(X_train_multiple.shape[1], X_train_multiple.shape[2]))\n",
    "lstm = Bidirectional(LSTM(64, return_sequences=True, dropout=0.3))(inputs, training = True)\n",
    "lstm = Bidirectional(LSTM(16, return_sequences=False, dropout=0.3))(lstm, training = True)\n",
    "dense = Dense(50)(lstm)\n",
    "out10 = Dense(5)(dense)\n",
    "out50 = Dense(5)(dense)\n",
    "out90 = Dense(5)(dense)\n",
    "\n",
    "model = Model(inputs, [out10,out50,out90])\n",
    "\n",
    "model.compile(loss=losses, optimizer='adam', loss_weights = [0.3,0.3,0.3], metrics = ['accuracy'] )"
   ]
  },
  {
   "cell_type": "code",
   "execution_count": 17,
   "metadata": {},
   "outputs": [
    {
     "data": {
      "text/plain": [
       "(22000, 24, 18)"
      ]
     },
     "execution_count": 17,
     "metadata": {},
     "output_type": "execute_result"
    }
   ],
   "source": [
    "X_train_multiple.shape"
   ]
  },
  {
   "cell_type": "code",
   "execution_count": 18,
   "metadata": {},
   "outputs": [
    {
     "name": "stdout",
     "output_type": "stream",
     "text": [
      "Train on 22000 samples, validate on 2000 samples\n",
      "Epoch 1/50\n",
      " - 53s - loss: 0.1365 - dense_2_loss: 0.0931 - dense_3_loss: 0.2229 - dense_4_loss: 0.1388 - dense_2_acc: 0.3145 - dense_3_acc: 0.4169 - dense_4_acc: 0.4166 - val_loss: 0.0979 - val_dense_2_loss: 0.0625 - val_dense_3_loss: 0.1584 - val_dense_4_loss: 0.1056 - val_dense_2_acc: 0.2765 - val_dense_3_acc: 0.3445 - val_dense_4_acc: 0.4105\n",
      "Epoch 2/50\n",
      " - 56s - loss: 0.1073 - dense_2_loss: 0.0736 - dense_3_loss: 0.1827 - dense_4_loss: 0.1015 - dense_2_acc: 0.4445 - dense_3_acc: 0.4960 - dense_4_acc: 0.4934 - val_loss: 0.0952 - val_dense_2_loss: 0.0634 - val_dense_3_loss: 0.1525 - val_dense_4_loss: 0.1016 - val_dense_2_acc: 0.3090 - val_dense_3_acc: 0.3825 - val_dense_4_acc: 0.4325\n",
      "Epoch 3/50\n",
      " - 54s - loss: 0.0996 - dense_2_loss: 0.0696 - dense_3_loss: 0.1693 - dense_4_loss: 0.0930 - dense_2_acc: 0.4757 - dense_3_acc: 0.5257 - dense_4_acc: 0.5210 - val_loss: 0.0893 - val_dense_2_loss: 0.0639 - val_dense_3_loss: 0.1412 - val_dense_4_loss: 0.0924 - val_dense_2_acc: 0.3325 - val_dense_3_acc: 0.4695 - val_dense_4_acc: 0.4980\n",
      "Epoch 4/50\n",
      " - 51s - loss: 0.0953 - dense_2_loss: 0.0673 - dense_3_loss: 0.1622 - dense_4_loss: 0.0881 - dense_2_acc: 0.4978 - dense_3_acc: 0.5380 - dense_4_acc: 0.5278 - val_loss: 0.0866 - val_dense_2_loss: 0.0604 - val_dense_3_loss: 0.1383 - val_dense_4_loss: 0.0901 - val_dense_2_acc: 0.3680 - val_dense_3_acc: 0.4970 - val_dense_4_acc: 0.5335\n",
      "Epoch 5/50\n",
      " - 51s - loss: 0.0926 - dense_2_loss: 0.0659 - dense_3_loss: 0.1578 - dense_4_loss: 0.0850 - dense_2_acc: 0.5070 - dense_3_acc: 0.5472 - dense_4_acc: 0.5410 - val_loss: 0.0860 - val_dense_2_loss: 0.0623 - val_dense_3_loss: 0.1362 - val_dense_4_loss: 0.0880 - val_dense_2_acc: 0.3690 - val_dense_3_acc: 0.4990 - val_dense_4_acc: 0.5205\n",
      "Epoch 6/50\n",
      " - 51s - loss: 0.0904 - dense_2_loss: 0.0646 - dense_3_loss: 0.1538 - dense_4_loss: 0.0829 - dense_2_acc: 0.5140 - dense_3_acc: 0.5505 - dense_4_acc: 0.5418 - val_loss: 0.0848 - val_dense_2_loss: 0.0599 - val_dense_3_loss: 0.1365 - val_dense_4_loss: 0.0863 - val_dense_2_acc: 0.3960 - val_dense_3_acc: 0.5060 - val_dense_4_acc: 0.5340\n",
      "Epoch 7/50\n",
      " - 68s - loss: 0.0893 - dense_2_loss: 0.0638 - dense_3_loss: 0.1521 - dense_4_loss: 0.0815 - dense_2_acc: 0.5186 - dense_3_acc: 0.5550 - dense_4_acc: 0.5530 - val_loss: 0.0810 - val_dense_2_loss: 0.0577 - val_dense_3_loss: 0.1287 - val_dense_4_loss: 0.0837 - val_dense_2_acc: 0.3915 - val_dense_3_acc: 0.5335 - val_dense_4_acc: 0.5340\n",
      "Epoch 8/50\n",
      " - 51s - loss: 0.0881 - dense_2_loss: 0.0636 - dense_3_loss: 0.1502 - dense_4_loss: 0.0798 - dense_2_acc: 0.5278 - dense_3_acc: 0.5585 - dense_4_acc: 0.5556 - val_loss: 0.0818 - val_dense_2_loss: 0.0582 - val_dense_3_loss: 0.1299 - val_dense_4_loss: 0.0844 - val_dense_2_acc: 0.4130 - val_dense_3_acc: 0.5440 - val_dense_4_acc: 0.5470\n",
      "Epoch 9/50\n",
      " - 49s - loss: 0.0873 - dense_2_loss: 0.0631 - dense_3_loss: 0.1488 - dense_4_loss: 0.0789 - dense_2_acc: 0.5313 - dense_3_acc: 0.5672 - dense_4_acc: 0.5600 - val_loss: 0.0811 - val_dense_2_loss: 0.0572 - val_dense_3_loss: 0.1293 - val_dense_4_loss: 0.0837 - val_dense_2_acc: 0.4210 - val_dense_3_acc: 0.5200 - val_dense_4_acc: 0.5455\n",
      "Epoch 10/50\n",
      " - 49s - loss: 0.0866 - dense_2_loss: 0.0626 - dense_3_loss: 0.1477 - dense_4_loss: 0.0783 - dense_2_acc: 0.5325 - dense_3_acc: 0.5662 - dense_4_acc: 0.5598 - val_loss: 0.0820 - val_dense_2_loss: 0.0601 - val_dense_3_loss: 0.1299 - val_dense_4_loss: 0.0833 - val_dense_2_acc: 0.3975 - val_dense_3_acc: 0.5300 - val_dense_4_acc: 0.5505\n",
      "Epoch 11/50\n",
      " - 50s - loss: 0.0858 - dense_2_loss: 0.0622 - dense_3_loss: 0.1464 - dense_4_loss: 0.0774 - dense_2_acc: 0.5380 - dense_3_acc: 0.5690 - dense_4_acc: 0.5587 - val_loss: 0.0816 - val_dense_2_loss: 0.0593 - val_dense_3_loss: 0.1298 - val_dense_4_loss: 0.0830 - val_dense_2_acc: 0.4105 - val_dense_3_acc: 0.5205 - val_dense_4_acc: 0.5640\n",
      "Epoch 12/50\n",
      " - 49s - loss: 0.0849 - dense_2_loss: 0.0616 - dense_3_loss: 0.1449 - dense_4_loss: 0.0767 - dense_2_acc: 0.5405 - dense_3_acc: 0.5677 - dense_4_acc: 0.5615 - val_loss: 0.0806 - val_dense_2_loss: 0.0596 - val_dense_3_loss: 0.1277 - val_dense_4_loss: 0.0812 - val_dense_2_acc: 0.3810 - val_dense_3_acc: 0.5410 - val_dense_4_acc: 0.5650\n",
      "Epoch 13/50\n",
      " - 53s - loss: 0.0846 - dense_2_loss: 0.0615 - dense_3_loss: 0.1444 - dense_4_loss: 0.0762 - dense_2_acc: 0.5383 - dense_3_acc: 0.5695 - dense_4_acc: 0.5650 - val_loss: 0.0786 - val_dense_2_loss: 0.0578 - val_dense_3_loss: 0.1234 - val_dense_4_loss: 0.0807 - val_dense_2_acc: 0.4070 - val_dense_3_acc: 0.5525 - val_dense_4_acc: 0.5655\n",
      "Epoch 14/50\n",
      " - 62s - loss: 0.0838 - dense_2_loss: 0.0613 - dense_3_loss: 0.1429 - dense_4_loss: 0.0750 - dense_2_acc: 0.5406 - dense_3_acc: 0.5746 - dense_4_acc: 0.5710 - val_loss: 0.0785 - val_dense_2_loss: 0.0582 - val_dense_3_loss: 0.1233 - val_dense_4_loss: 0.0799 - val_dense_2_acc: 0.4145 - val_dense_3_acc: 0.5500 - val_dense_4_acc: 0.5900\n",
      "Epoch 15/50\n",
      " - 62s - loss: 0.0835 - dense_2_loss: 0.0607 - dense_3_loss: 0.1427 - dense_4_loss: 0.0750 - dense_2_acc: 0.5440 - dense_3_acc: 0.5765 - dense_4_acc: 0.5671 - val_loss: 0.0791 - val_dense_2_loss: 0.0580 - val_dense_3_loss: 0.1253 - val_dense_4_loss: 0.0803 - val_dense_2_acc: 0.4120 - val_dense_3_acc: 0.5555 - val_dense_4_acc: 0.5710\n",
      "Epoch 16/50\n",
      " - 62s - loss: 0.0832 - dense_2_loss: 0.0608 - dense_3_loss: 0.1422 - dense_4_loss: 0.0743 - dense_2_acc: 0.5471 - dense_3_acc: 0.5779 - dense_4_acc: 0.5724 - val_loss: 0.0797 - val_dense_2_loss: 0.0578 - val_dense_3_loss: 0.1256 - val_dense_4_loss: 0.0822 - val_dense_2_acc: 0.4140 - val_dense_3_acc: 0.5530 - val_dense_4_acc: 0.5675\n",
      "Epoch 17/50\n",
      " - 62s - loss: 0.0831 - dense_2_loss: 0.0605 - dense_3_loss: 0.1419 - dense_4_loss: 0.0745 - dense_2_acc: 0.5451 - dense_3_acc: 0.5780 - dense_4_acc: 0.5728 - val_loss: 0.0789 - val_dense_2_loss: 0.0573 - val_dense_3_loss: 0.1243 - val_dense_4_loss: 0.0814 - val_dense_2_acc: 0.3925 - val_dense_3_acc: 0.5430 - val_dense_4_acc: 0.5805\n",
      "Epoch 18/50\n",
      " - 62s - loss: 0.0827 - dense_2_loss: 0.0604 - dense_3_loss: 0.1411 - dense_4_loss: 0.0743 - dense_2_acc: 0.5462 - dense_3_acc: 0.5771 - dense_4_acc: 0.5693 - val_loss: 0.0798 - val_dense_2_loss: 0.0565 - val_dense_3_loss: 0.1267 - val_dense_4_loss: 0.0829 - val_dense_2_acc: 0.3965 - val_dense_3_acc: 0.5315 - val_dense_4_acc: 0.5855\n",
      "Epoch 19/50\n",
      " - 55s - loss: 0.0823 - dense_2_loss: 0.0600 - dense_3_loss: 0.1407 - dense_4_loss: 0.0738 - dense_2_acc: 0.5512 - dense_3_acc: 0.5780 - dense_4_acc: 0.5714 - val_loss: 0.0789 - val_dense_2_loss: 0.0567 - val_dense_3_loss: 0.1239 - val_dense_4_loss: 0.0823 - val_dense_2_acc: 0.4030 - val_dense_3_acc: 0.5285 - val_dense_4_acc: 0.5740\n",
      "Epoch 20/50\n",
      " - 50s - loss: 0.0818 - dense_2_loss: 0.0599 - dense_3_loss: 0.1397 - dense_4_loss: 0.0729 - dense_2_acc: 0.5487 - dense_3_acc: 0.5814 - dense_4_acc: 0.5769 - val_loss: 0.0779 - val_dense_2_loss: 0.0582 - val_dense_3_loss: 0.1224 - val_dense_4_loss: 0.0789 - val_dense_2_acc: 0.4145 - val_dense_3_acc: 0.5475 - val_dense_4_acc: 0.5885\n",
      "Epoch 21/50\n",
      " - 50s - loss: 0.0818 - dense_2_loss: 0.0599 - dense_3_loss: 0.1399 - dense_4_loss: 0.0730 - dense_2_acc: 0.5489 - dense_3_acc: 0.5767 - dense_4_acc: 0.5730 - val_loss: 0.0819 - val_dense_2_loss: 0.0603 - val_dense_3_loss: 0.1286 - val_dense_4_loss: 0.0841 - val_dense_2_acc: 0.3855 - val_dense_3_acc: 0.5135 - val_dense_4_acc: 0.5540\n",
      "Epoch 22/50\n",
      " - 49s - loss: 0.0816 - dense_2_loss: 0.0597 - dense_3_loss: 0.1393 - dense_4_loss: 0.0728 - dense_2_acc: 0.5473 - dense_3_acc: 0.5798 - dense_4_acc: 0.5746 - val_loss: 0.0781 - val_dense_2_loss: 0.0568 - val_dense_3_loss: 0.1232 - val_dense_4_loss: 0.0804 - val_dense_2_acc: 0.4225 - val_dense_3_acc: 0.5605 - val_dense_4_acc: 0.5720\n",
      "Epoch 23/50\n",
      " - 49s - loss: 0.0811 - dense_2_loss: 0.0595 - dense_3_loss: 0.1384 - dense_4_loss: 0.0723 - dense_2_acc: 0.5492 - dense_3_acc: 0.5800 - dense_4_acc: 0.5728 - val_loss: 0.0787 - val_dense_2_loss: 0.0574 - val_dense_3_loss: 0.1239 - val_dense_4_loss: 0.0812 - val_dense_2_acc: 0.4240 - val_dense_3_acc: 0.5455 - val_dense_4_acc: 0.5775\n",
      "Epoch 24/50\n",
      " - 49s - loss: 0.0811 - dense_2_loss: 0.0595 - dense_3_loss: 0.1386 - dense_4_loss: 0.0723 - dense_2_acc: 0.5522 - dense_3_acc: 0.5837 - dense_4_acc: 0.5742 - val_loss: 0.0808 - val_dense_2_loss: 0.0590 - val_dense_3_loss: 0.1278 - val_dense_4_loss: 0.0825 - val_dense_2_acc: 0.4075 - val_dense_3_acc: 0.5090 - val_dense_4_acc: 0.5615\n"
     ]
    },
    {
     "name": "stdout",
     "output_type": "stream",
     "text": [
      "Epoch 25/50\n",
      " - 48s - loss: 0.0807 - dense_2_loss: 0.0593 - dense_3_loss: 0.1380 - dense_4_loss: 0.0717 - dense_2_acc: 0.5529 - dense_3_acc: 0.5812 - dense_4_acc: 0.5736 - val_loss: 0.0800 - val_dense_2_loss: 0.0594 - val_dense_3_loss: 0.1260 - val_dense_4_loss: 0.0813 - val_dense_2_acc: 0.4170 - val_dense_3_acc: 0.5480 - val_dense_4_acc: 0.5630\n",
      "Epoch 26/50\n",
      " - 49s - loss: 0.0805 - dense_2_loss: 0.0591 - dense_3_loss: 0.1375 - dense_4_loss: 0.0716 - dense_2_acc: 0.5543 - dense_3_acc: 0.5847 - dense_4_acc: 0.5754 - val_loss: 0.0788 - val_dense_2_loss: 0.0576 - val_dense_3_loss: 0.1241 - val_dense_4_loss: 0.0811 - val_dense_2_acc: 0.4380 - val_dense_3_acc: 0.5735 - val_dense_4_acc: 0.5715\n",
      "Epoch 27/50\n",
      " - 49s - loss: 0.0804 - dense_2_loss: 0.0589 - dense_3_loss: 0.1374 - dense_4_loss: 0.0717 - dense_2_acc: 0.5589 - dense_3_acc: 0.5826 - dense_4_acc: 0.5786 - val_loss: 0.0782 - val_dense_2_loss: 0.0565 - val_dense_3_loss: 0.1237 - val_dense_4_loss: 0.0803 - val_dense_2_acc: 0.4290 - val_dense_3_acc: 0.5570 - val_dense_4_acc: 0.5640\n",
      "Epoch 28/50\n",
      " - 49s - loss: 0.0804 - dense_2_loss: 0.0590 - dense_3_loss: 0.1374 - dense_4_loss: 0.0716 - dense_2_acc: 0.5544 - dense_3_acc: 0.5833 - dense_4_acc: 0.5751 - val_loss: 0.0774 - val_dense_2_loss: 0.0567 - val_dense_3_loss: 0.1226 - val_dense_4_loss: 0.0786 - val_dense_2_acc: 0.4425 - val_dense_3_acc: 0.5715 - val_dense_4_acc: 0.5875\n",
      "Epoch 29/50\n",
      " - 49s - loss: 0.0798 - dense_2_loss: 0.0586 - dense_3_loss: 0.1365 - dense_4_loss: 0.0710 - dense_2_acc: 0.5569 - dense_3_acc: 0.5850 - dense_4_acc: 0.5773 - val_loss: 0.0770 - val_dense_2_loss: 0.0561 - val_dense_3_loss: 0.1215 - val_dense_4_loss: 0.0790 - val_dense_2_acc: 0.4440 - val_dense_3_acc: 0.5530 - val_dense_4_acc: 0.5735\n",
      "Epoch 30/50\n",
      " - 49s - loss: 0.0799 - dense_2_loss: 0.0586 - dense_3_loss: 0.1364 - dense_4_loss: 0.0713 - dense_2_acc: 0.5558 - dense_3_acc: 0.5854 - dense_4_acc: 0.5789 - val_loss: 0.0763 - val_dense_2_loss: 0.0544 - val_dense_3_loss: 0.1213 - val_dense_4_loss: 0.0786 - val_dense_2_acc: 0.4255 - val_dense_3_acc: 0.5525 - val_dense_4_acc: 0.5875\n",
      "Epoch 31/50\n",
      " - 49s - loss: 0.0796 - dense_2_loss: 0.0587 - dense_3_loss: 0.1362 - dense_4_loss: 0.0704 - dense_2_acc: 0.5553 - dense_3_acc: 0.5855 - dense_4_acc: 0.5790 - val_loss: 0.0782 - val_dense_2_loss: 0.0560 - val_dense_3_loss: 0.1236 - val_dense_4_loss: 0.0810 - val_dense_2_acc: 0.4085 - val_dense_3_acc: 0.5295 - val_dense_4_acc: 0.5840\n",
      "Epoch 32/50\n",
      " - 49s - loss: 0.0795 - dense_2_loss: 0.0585 - dense_3_loss: 0.1360 - dense_4_loss: 0.0706 - dense_2_acc: 0.5566 - dense_3_acc: 0.5855 - dense_4_acc: 0.5759 - val_loss: 0.0767 - val_dense_2_loss: 0.0561 - val_dense_3_loss: 0.1194 - val_dense_4_loss: 0.0801 - val_dense_2_acc: 0.4115 - val_dense_3_acc: 0.5500 - val_dense_4_acc: 0.5800\n",
      "Epoch 33/50\n",
      " - 49s - loss: 0.0794 - dense_2_loss: 0.0584 - dense_3_loss: 0.1357 - dense_4_loss: 0.0704 - dense_2_acc: 0.5543 - dense_3_acc: 0.5825 - dense_4_acc: 0.5818 - val_loss: 0.0770 - val_dense_2_loss: 0.0568 - val_dense_3_loss: 0.1207 - val_dense_4_loss: 0.0793 - val_dense_2_acc: 0.4350 - val_dense_3_acc: 0.5590 - val_dense_4_acc: 0.5675\n",
      "Epoch 34/50\n",
      " - 49s - loss: 0.0792 - dense_2_loss: 0.0582 - dense_3_loss: 0.1354 - dense_4_loss: 0.0704 - dense_2_acc: 0.5567 - dense_3_acc: 0.5852 - dense_4_acc: 0.5768 - val_loss: 0.0766 - val_dense_2_loss: 0.0549 - val_dense_3_loss: 0.1200 - val_dense_4_loss: 0.0804 - val_dense_2_acc: 0.4350 - val_dense_3_acc: 0.5610 - val_dense_4_acc: 0.5865\n",
      "Epoch 35/50\n",
      " - 49s - loss: 0.0789 - dense_2_loss: 0.0580 - dense_3_loss: 0.1348 - dense_4_loss: 0.0700 - dense_2_acc: 0.5553 - dense_3_acc: 0.5870 - dense_4_acc: 0.5804 - val_loss: 0.0759 - val_dense_2_loss: 0.0554 - val_dense_3_loss: 0.1196 - val_dense_4_loss: 0.0779 - val_dense_2_acc: 0.4420 - val_dense_3_acc: 0.5550 - val_dense_4_acc: 0.5925\n",
      "Epoch 36/50\n",
      " - 48s - loss: 0.0790 - dense_2_loss: 0.0580 - dense_3_loss: 0.1350 - dense_4_loss: 0.0702 - dense_2_acc: 0.5608 - dense_3_acc: 0.5858 - dense_4_acc: 0.5784 - val_loss: 0.0764 - val_dense_2_loss: 0.0540 - val_dense_3_loss: 0.1199 - val_dense_4_loss: 0.0809 - val_dense_2_acc: 0.4100 - val_dense_3_acc: 0.5380 - val_dense_4_acc: 0.5880\n",
      "Epoch 37/50\n",
      " - 49s - loss: 0.0790 - dense_2_loss: 0.0580 - dense_3_loss: 0.1350 - dense_4_loss: 0.0702 - dense_2_acc: 0.5558 - dense_3_acc: 0.5845 - dense_4_acc: 0.5786 - val_loss: 0.0790 - val_dense_2_loss: 0.0562 - val_dense_3_loss: 0.1245 - val_dense_4_loss: 0.0825 - val_dense_2_acc: 0.4065 - val_dense_3_acc: 0.5215 - val_dense_4_acc: 0.5520\n",
      "Epoch 38/50\n",
      " - 49s - loss: 0.0788 - dense_2_loss: 0.0578 - dense_3_loss: 0.1348 - dense_4_loss: 0.0701 - dense_2_acc: 0.5600 - dense_3_acc: 0.5900 - dense_4_acc: 0.5824 - val_loss: 0.0774 - val_dense_2_loss: 0.0570 - val_dense_3_loss: 0.1210 - val_dense_4_loss: 0.0800 - val_dense_2_acc: 0.4505 - val_dense_3_acc: 0.5575 - val_dense_4_acc: 0.5865\n",
      "Epoch 39/50\n",
      " - 49s - loss: 0.0786 - dense_2_loss: 0.0580 - dense_3_loss: 0.1344 - dense_4_loss: 0.0698 - dense_2_acc: 0.5591 - dense_3_acc: 0.5880 - dense_4_acc: 0.5831 - val_loss: 0.0774 - val_dense_2_loss: 0.0553 - val_dense_3_loss: 0.1229 - val_dense_4_loss: 0.0798 - val_dense_2_acc: 0.4345 - val_dense_3_acc: 0.5425 - val_dense_4_acc: 0.5760\n",
      "Epoch 40/50\n",
      " - 49s - loss: 0.0787 - dense_2_loss: 0.0580 - dense_3_loss: 0.1343 - dense_4_loss: 0.0699 - dense_2_acc: 0.5619 - dense_3_acc: 0.5905 - dense_4_acc: 0.5845 - val_loss: 0.0768 - val_dense_2_loss: 0.0560 - val_dense_3_loss: 0.1210 - val_dense_4_loss: 0.0789 - val_dense_2_acc: 0.4260 - val_dense_3_acc: 0.5435 - val_dense_4_acc: 0.5870\n",
      "Epoch 41/50\n",
      " - 49s - loss: 0.0784 - dense_2_loss: 0.0579 - dense_3_loss: 0.1339 - dense_4_loss: 0.0694 - dense_2_acc: 0.5626 - dense_3_acc: 0.5884 - dense_4_acc: 0.5808 - val_loss: 0.0749 - val_dense_2_loss: 0.0542 - val_dense_3_loss: 0.1177 - val_dense_4_loss: 0.0777 - val_dense_2_acc: 0.4550 - val_dense_3_acc: 0.5735 - val_dense_4_acc: 0.5840\n",
      "Epoch 42/50\n",
      " - 49s - loss: 0.0784 - dense_2_loss: 0.0578 - dense_3_loss: 0.1342 - dense_4_loss: 0.0695 - dense_2_acc: 0.5606 - dense_3_acc: 0.5886 - dense_4_acc: 0.5847 - val_loss: 0.0768 - val_dense_2_loss: 0.0548 - val_dense_3_loss: 0.1218 - val_dense_4_loss: 0.0795 - val_dense_2_acc: 0.4085 - val_dense_3_acc: 0.5360 - val_dense_4_acc: 0.5825\n",
      "Epoch 43/50\n",
      " - 49s - loss: 0.0782 - dense_2_loss: 0.0576 - dense_3_loss: 0.1337 - dense_4_loss: 0.0695 - dense_2_acc: 0.5631 - dense_3_acc: 0.5873 - dense_4_acc: 0.5839 - val_loss: 0.0760 - val_dense_2_loss: 0.0540 - val_dense_3_loss: 0.1206 - val_dense_4_loss: 0.0788 - val_dense_2_acc: 0.4410 - val_dense_3_acc: 0.5575 - val_dense_4_acc: 0.5860\n",
      "Epoch 44/50\n",
      " - 49s - loss: 0.0781 - dense_2_loss: 0.0577 - dense_3_loss: 0.1337 - dense_4_loss: 0.0690 - dense_2_acc: 0.5615 - dense_3_acc: 0.5898 - dense_4_acc: 0.5859 - val_loss: 0.0775 - val_dense_2_loss: 0.0559 - val_dense_3_loss: 0.1226 - val_dense_4_loss: 0.0798 - val_dense_2_acc: 0.4390 - val_dense_3_acc: 0.5340 - val_dense_4_acc: 0.5715\n",
      "Epoch 45/50\n",
      " - 49s - loss: 0.0778 - dense_2_loss: 0.0574 - dense_3_loss: 0.1329 - dense_4_loss: 0.0691 - dense_2_acc: 0.5630 - dense_3_acc: 0.5899 - dense_4_acc: 0.5829 - val_loss: 0.0745 - val_dense_2_loss: 0.0531 - val_dense_3_loss: 0.1171 - val_dense_4_loss: 0.0783 - val_dense_2_acc: 0.4225 - val_dense_3_acc: 0.5575 - val_dense_4_acc: 0.5860\n",
      "Epoch 46/50\n",
      " - 50s - loss: 0.0779 - dense_2_loss: 0.0574 - dense_3_loss: 0.1333 - dense_4_loss: 0.0691 - dense_2_acc: 0.5640 - dense_3_acc: 0.5929 - dense_4_acc: 0.5838 - val_loss: 0.0756 - val_dense_2_loss: 0.0555 - val_dense_3_loss: 0.1196 - val_dense_4_loss: 0.0769 - val_dense_2_acc: 0.4455 - val_dense_3_acc: 0.5720 - val_dense_4_acc: 0.5940\n",
      "Epoch 47/50\n",
      " - 50s - loss: 0.0779 - dense_2_loss: 0.0574 - dense_3_loss: 0.1332 - dense_4_loss: 0.0691 - dense_2_acc: 0.5649 - dense_3_acc: 0.5911 - dense_4_acc: 0.5793 - val_loss: 0.0758 - val_dense_2_loss: 0.0550 - val_dense_3_loss: 0.1189 - val_dense_4_loss: 0.0787 - val_dense_2_acc: 0.4670 - val_dense_3_acc: 0.5700 - val_dense_4_acc: 0.5875\n",
      "Epoch 48/50\n",
      " - 51s - loss: 0.0778 - dense_2_loss: 0.0576 - dense_3_loss: 0.1331 - dense_4_loss: 0.0687 - dense_2_acc: 0.5645 - dense_3_acc: 0.5940 - dense_4_acc: 0.5875 - val_loss: 0.0766 - val_dense_2_loss: 0.0560 - val_dense_3_loss: 0.1203 - val_dense_4_loss: 0.0790 - val_dense_2_acc: 0.4245 - val_dense_3_acc: 0.5545 - val_dense_4_acc: 0.5770\n"
     ]
    },
    {
     "name": "stdout",
     "output_type": "stream",
     "text": [
      "Epoch 49/50\n",
      " - 55s - loss: 0.0776 - dense_2_loss: 0.0574 - dense_3_loss: 0.1326 - dense_4_loss: 0.0686 - dense_2_acc: 0.5652 - dense_3_acc: 0.5905 - dense_4_acc: 0.5828 - val_loss: 0.0755 - val_dense_2_loss: 0.0537 - val_dense_3_loss: 0.1194 - val_dense_4_loss: 0.0785 - val_dense_2_acc: 0.4260 - val_dense_3_acc: 0.5475 - val_dense_4_acc: 0.5870\n",
      "Epoch 50/50\n",
      " - 53s - loss: 0.0777 - dense_2_loss: 0.0574 - dense_3_loss: 0.1330 - dense_4_loss: 0.0685 - dense_2_acc: 0.5612 - dense_3_acc: 0.5915 - dense_4_acc: 0.5824 - val_loss: 0.0763 - val_dense_2_loss: 0.0538 - val_dense_3_loss: 0.1204 - val_dense_4_loss: 0.0801 - val_dense_2_acc: 0.4590 - val_dense_3_acc: 0.5480 - val_dense_4_acc: 0.5835\n"
     ]
    }
   ],
   "source": [
    "history = model.fit(X_train_multiple, [y_train_multiple,y_train_multiple,y_train_multiple], epochs=50, batch_size=64, verbose=2,  shuffle=True, callbacks = [TensorBoard(log_dir='./logs/multiple_label_lstm1')], validation_data=(X_test_multiple[:2000], [y_test_multiple[:2000], y_test_multiple[:2000], y_test_multiple[:2000]]))"
   ]
  },
  {
   "cell_type": "code",
   "execution_count": 20,
   "metadata": {},
   "outputs": [
    {
     "data": {
      "image/png": "[encoded data removed]",
      "text/plain": [
       "<Figure size 432x288 with 1 Axes>"
      ]
     },
     "metadata": {},
     "output_type": "display_data"
    }
   ],
   "source": [
    "#plot loss and val_loss\n",
    "plt.plot(history.history['loss'], label='train')\n",
    "plt.plot(history.history['val_loss'], label='test')\n",
    "plt.legend()\n",
    "plt.show()"
   ]
  },
  {
   "cell_type": "code",
   "execution_count": 21,
   "metadata": {},
   "outputs": [
    {
     "name": "stdout",
     "output_type": "stream",
     "text": [
      "Saved model to disk\n"
     ]
    }
   ],
   "source": [
    "# serialize model to JSON\n",
    "model_json = model.to_json()\n",
    "with open(\"model_multiple_standard.json\", \"w\") as json_file:\n",
    "    json_file.write(model_json)\n",
    "# serialize weights to HDF5\n",
    "model.save_weights(\"model_multiple_standard.h5\")\n",
    "print(\"Saved model to disk\")"
   ]
  },
  {
   "cell_type": "code",
   "execution_count": 22,
   "metadata": {},
   "outputs": [
    {
     "name": "stdout",
     "output_type": "stream",
     "text": [
      "Loaded model from disk\n"
     ]
    }
   ],
   "source": [
    "# load json and create model # model.json, \n",
    "#model.h5 = for single feature CO, model_multiple.json, model_multiple.h5 = for multiple feature\n",
    "\n",
    "json_file = open('model_multiple_standard.json', 'r')\n",
    "loaded_model_json = json_file.read()\n",
    "json_file.close()\n",
    "loaded_model = model_from_json(loaded_model_json)\n",
    "# load weights into new model\n",
    "loaded_model.load_weights(\"model_multiple_standard.h5\")\n",
    "print(\"Loaded model from disk\")"
   ]
  },
  {
   "cell_type": "code",
   "execution_count": null,
   "metadata": {},
   "outputs": [],
   "source": []
  },
  {
   "cell_type": "code",
   "execution_count": 206,
   "metadata": {},
   "outputs": [
    {
     "name": "stderr",
     "output_type": "stream",
     "text": [
      "100%|████████████████████████████████████████████████████████████████████████████████| 100/100 [00:57<00:00,  1.78it/s]\n"
     ]
    }
   ],
   "source": [
    "### QUANTILEs BOOTSTRAPPING ###\n",
    "def quantiles_bootstraping(model, X_test):\n",
    "        pred_10, pred_50, pred_90 = [], [], []\n",
    "        NN = K.function([model.layers[0].input, K.learning_phase()], \n",
    "                        [model.layers[-3].output,model.layers[-2].output,model.layers[-1].output])\n",
    "        \n",
    "        for i in tqdm.tqdm(range(0,100)):\n",
    "            predd = NN([X_test, 0.5])\n",
    "            pred_10.append(predd[0])\n",
    "            pred_50.append(predd[1])\n",
    "            pred_90.append(predd[2])\n",
    "\n",
    "        pred_10 = np.asarray(pred_10)\n",
    "        pred_50 = np.asarray(pred_50)\n",
    "        pred_90 = np.asarray(pred_90)\n",
    "        \n",
    "        return pred_10, pred_50, pred_90\n",
    "    \n",
    "#pred_10_CO, pred_50_CO, pred_90_CO = quantiles_bootstraping(loaded_model, X_test_CO)\n",
    "\n",
    "#pred_10_multiple, pred_50_multiple, pred_90_multiple = quantiles_bootstraping(loaded_model, X_test_multiple)\n",
    "pred_10_multiple, pred_50_multiple, pred_90_multiple = quantiles_bootstraping(loaded_model, X_train_multiple)"
   ]
  },
  {
   "cell_type": "code",
   "execution_count": 207,
   "metadata": {},
   "outputs": [
    {
     "data": {
      "text/plain": [
       "(22000, 5)"
      ]
     },
     "execution_count": 207,
     "metadata": {},
     "output_type": "execute_result"
    }
   ],
   "source": [
    "pred_10_multiple = np.quantile(pred_10_multiple,0.1,axis=0)\n",
    "pred_50_multiple = np.quantile(pred_50_multiple,0.5,axis=0)\n",
    "pred_90_multiple = np.quantile(pred_90_multiple,0.9,axis=0)\n",
    "pred_90_multiple.shape"
   ]
  },
  {
   "cell_type": "code",
   "execution_count": null,
   "metadata": {},
   "outputs": [],
   "source": []
  },
  {
   "cell_type": "code",
   "execution_count": null,
   "metadata": {},
   "outputs": [],
   "source": [
    "\n"
   ]
  },
  {
   "cell_type": "code",
   "execution_count": 208,
   "metadata": {},
   "outputs": [],
   "source": [
    "y_hat_10 = pred_10_multiple\n",
    "y_hat_50 = pred_50_multiple\n",
    "y_hat_90 = pred_90_multiple"
   ]
  },
  {
   "cell_type": "code",
   "execution_count": 215,
   "metadata": {},
   "outputs": [
    {
     "data": {
      "text/plain": [
       "(22000, 18)"
      ]
     },
     "execution_count": 215,
     "metadata": {},
     "output_type": "execute_result"
    }
   ],
   "source": [
    "X_train = []\n",
    "for i in range(X_train_multiple.shape[0]):\n",
    "    X_train.append(X_train_multiple[i, 0, :])\n",
    "X_train = np.array(X_train)\n",
    "X_train.shape"
   ]
  },
  {
   "cell_type": "code",
   "execution_count": 216,
   "metadata": {},
   "outputs": [
    {
     "data": {
      "text/plain": [
       "(8339, 18)"
      ]
     },
     "execution_count": 216,
     "metadata": {},
     "output_type": "execute_result"
    }
   ],
   "source": [
    "X_test = []\n",
    "for i in range(X_test_multiple.shape[0]):\n",
    "    X_test.append(X_test_multiple[i, 0, :])\n",
    "X_test = np.array(X_test)\n",
    "X_test.shape"
   ]
  },
  {
   "cell_type": "code",
   "execution_count": 217,
   "metadata": {},
   "outputs": [],
   "source": [
    "#Inverse Transform the output\n",
    "inv_yhat_10 = np.concatenate((y_hat_10, X_train[:, 5:]), axis = 1)\n",
    "inv_yhat_10 = scaler.inverse_transform(inv_yhat_10)\n",
    "pred_10_m_multiple = inv_yhat_10[:,0:5]\n",
    "\n",
    "inv_yhat_50 = np.concatenate((y_hat_50, X_train[:, 5:]), axis = 1)\n",
    "inv_yhat_50 = scaler.inverse_transform(inv_yhat_50)\n",
    "pred_50_m_multiple = inv_yhat_50[:,0:5]\n",
    "\n",
    "inv_yhat_90 = np.concatenate((y_hat_90, X_train[:, 5:]), axis = 1)\n",
    "inv_yhat_90 = scaler.inverse_transform(inv_yhat_90)\n",
    "pred_90_m_multiple = inv_yhat_90[:,0:5]"
   ]
  },
  {
   "cell_type": "code",
   "execution_count": 219,
   "metadata": {},
   "outputs": [],
   "source": [
    "inv_y = concatenate((y_train_multiple, X_train[:, 5:]), axis=1)\n",
    "inv_y = scaler.inverse_transform(inv_y)\n",
    "inv_y = inv_y[:,0:5]"
   ]
  },
  {
   "cell_type": "code",
   "execution_count": 220,
   "metadata": {},
   "outputs": [
    {
     "data": {
      "text/plain": [
       "(22000, 5)"
      ]
     },
     "execution_count": 220,
     "metadata": {},
     "output_type": "execute_result"
    }
   ],
   "source": [
    "pred_90_m_multiple.shape"
   ]
  },
  {
   "cell_type": "code",
   "execution_count": null,
   "metadata": {},
   "outputs": [],
   "source": []
  },
  {
   "cell_type": "code",
   "execution_count": 221,
   "metadata": {},
   "outputs": [
    {
     "name": "stdout",
     "output_type": "stream",
     "text": [
      "439.1202978207922\n"
     ]
    }
   ],
   "source": [
    "### EVALUATION METRIC ###\n",
    "def evaluation_metric(y_test, pred_50_m):\n",
    "    return mean_squared_error(y_test, pred_50_m)\n",
    "    \n",
    "#print(evaluation_metric(y_test_CO, init_CO, len_of_init=22000, pred_50_m = pred_50_m_CO))\n",
    "print(evaluation_metric(inv_y, pred_50_m_multiple))"
   ]
  },
  {
   "cell_type": "code",
   "execution_count": 239,
   "metadata": {},
   "outputs": [
    {
     "data": {
      "image/png": "[encoded data removed]",
      "text/plain": [
       "<Figure size 1152x576 with 1 Axes>"
      ]
     },
     "metadata": {},
     "output_type": "display_data"
    }
   ],
   "source": [
    "### PLOT QUANTILE PREDICTIONS ###\n",
    "def plot_quantile_predictions(pred_10_m, pred_50_m, pred_90_m, plot_scatter = True):\n",
    "    \n",
    "        plt.figure(figsize=(16,8))\n",
    "        if(pred_90_m is not None):\n",
    "            plt.plot(pred_90_m, color='cyan')\n",
    "        if(pred_50_m is not None):\n",
    "            plt.plot(pred_50_m, color='blue')\n",
    "        if(pred_10_m is not None):\n",
    "            plt.plot(pred_10_m, color='green')\n",
    "\n",
    "        ### CROSSOVER CHECK ###\n",
    "        if(plot_scatter):\n",
    "            plt.scatter(np.where(np.logical_or(pred_50_m>pred_90_m, pred_50_m<pred_10_m))[0], \n",
    "                pred_50_m[np.logical_or(pred_50_m>pred_90_m, pred_50_m<pred_10_m)], c='red', s=50);\n",
    "        \n",
    "        \n",
    "plot_quantile_predictions(pred_10_m_multiple[:-1,3], pred_50_m_multiple[:-1,3], pred_90_m_multiple[:-1,3])\n"
   ]
  },
  {
   "cell_type": "code",
   "execution_count": 235,
   "metadata": {},
   "outputs": [
    {
     "data": {
      "image/png": "[encoded data removed]",
      "text/plain": [
       "<Figure size 2880x720 with 1 Axes>"
      ]
     },
     "metadata": {},
     "output_type": "display_data"
    }
   ],
   "source": [
    "### PLOT UNCERTAINTY INTERVAL LENGHT WITH REAL DATA ###\n",
    "def plot_uncertainity_interval(y_test, pred_10_m, pred_50_m, pred_90_m):\n",
    "        plt.figure(figsize=(40,10))\n",
    "        plt.plot(y_test , color='blue', alpha=0.4)\n",
    "        plt.scatter(range(len(pred_10_m)), pred_90_m - pred_10_m, color = \"red\")\n",
    "        \n",
    "#plot_uncertainity_interval(y_test_CO, init_CO, 22000, pred_10_m_CO, pred_50_m_CO, pred_90_m_CO)\n",
    "plot_uncertainity_interval(inv_y[:-1,4], pred_10_m_multiple[:-1,4], pred_50_m_multiple[:-1,4], pred_90_m_multiple[:-1,4])"
   ]
  },
  {
   "cell_type": "code",
   "execution_count": 177,
   "metadata": {},
   "outputs": [
    {
     "data": {
      "text/plain": [
       "array([[-0.9413877 , -0.76294476, -0.7166462 , -0.52979916, -0.9484578 ],\n",
       "       [-0.76471794, -0.706751  , -0.71516275, -0.35143864, -1.0202287 ],\n",
       "       [-0.67254245, -0.67350024, -0.71812963, -0.49499714, -1.2116181 ],\n",
       "       ...,\n",
       "       [-0.77239925, -1.0512289 , -1.2299184 , -0.9256726 , -0.901294  ],\n",
       "       [-0.7877618 , -1.1343558 , -1.1409117 , -0.6559566 , -1.005191  ],\n",
       "       [-0.73399276, -1.0778295 , -1.2343688 , -0.6559566 , -0.71127176]],\n",
       "      dtype=float32)"
      ]
     },
     "execution_count": 177,
     "metadata": {},
     "output_type": "execute_result"
    }
   ],
   "source": [
    "y_test_multiple"
   ]
  },
  {
   "cell_type": "code",
   "execution_count": 240,
   "metadata": {},
   "outputs": [
    {
     "data": {
      "text/html": [
       "<div>\n",
       "<style scoped>\n",
       "    .dataframe tbody tr th:only-of-type {\n",
       "        vertical-align: middle;\n",
       "    }\n",
       "\n",
       "    .dataframe tbody tr th {\n",
       "        vertical-align: top;\n",
       "    }\n",
       "\n",
       "    .dataframe thead th {\n",
       "        text-align: right;\n",
       "    }\n",
       "</style>\n",
       "<table border=\"1\" class=\"dataframe\">\n",
       "  <thead>\n",
       "    <tr style=\"text-align: right;\">\n",
       "      <th></th>\n",
       "      <th>AT</th>\n",
       "      <th>BP</th>\n",
       "      <th>CO</th>\n",
       "      <th>NO</th>\n",
       "      <th>NO2</th>\n",
       "      <th>Ozone</th>\n",
       "      <th>PM10</th>\n",
       "      <th>PM2.5</th>\n",
       "      <th>RH</th>\n",
       "      <th>SO2</th>\n",
       "      <th>SR</th>\n",
       "      <th>WD</th>\n",
       "      <th>WS</th>\n",
       "      <th>d</th>\n",
       "      <th>mt</th>\n",
       "      <th>yr</th>\n",
       "      <th>H</th>\n",
       "      <th>weekday</th>\n",
       "    </tr>\n",
       "  </thead>\n",
       "  <tbody>\n",
       "    <tr>\n",
       "      <th>0</th>\n",
       "      <td>-1.572818</td>\n",
       "      <td>0.517595</td>\n",
       "      <td>-0.987475</td>\n",
       "      <td>0.399260</td>\n",
       "      <td>0.253531</td>\n",
       "      <td>-0.735354</td>\n",
       "      <td>1.550534</td>\n",
       "      <td>1.936797</td>\n",
       "      <td>0.841307</td>\n",
       "      <td>-0.032523</td>\n",
       "      <td>-0.679493</td>\n",
       "      <td>1.454357</td>\n",
       "      <td>-0.699096</td>\n",
       "      <td>-1.664085</td>\n",
       "      <td>-1.47996</td>\n",
       "      <td>-1.241271</td>\n",
       "      <td>-1.516531</td>\n",
       "      <td>0.49947</td>\n",
       "    </tr>\n",
       "    <tr>\n",
       "      <th>1</th>\n",
       "      <td>-1.682444</td>\n",
       "      <td>0.517595</td>\n",
       "      <td>-0.887619</td>\n",
       "      <td>0.672918</td>\n",
       "      <td>0.033743</td>\n",
       "      <td>-0.749154</td>\n",
       "      <td>1.552551</td>\n",
       "      <td>2.110807</td>\n",
       "      <td>1.022493</td>\n",
       "      <td>0.344787</td>\n",
       "      <td>-0.680266</td>\n",
       "      <td>1.266710</td>\n",
       "      <td>-0.866359</td>\n",
       "      <td>-1.664085</td>\n",
       "      <td>-1.47996</td>\n",
       "      <td>-1.241271</td>\n",
       "      <td>-1.372050</td>\n",
       "      <td>0.49947</td>\n",
       "    </tr>\n",
       "    <tr>\n",
       "      <th>2</th>\n",
       "      <td>-1.701790</td>\n",
       "      <td>0.517595</td>\n",
       "      <td>-0.803124</td>\n",
       "      <td>0.517207</td>\n",
       "      <td>0.040061</td>\n",
       "      <td>-0.730457</td>\n",
       "      <td>2.352010</td>\n",
       "      <td>2.110807</td>\n",
       "      <td>1.078919</td>\n",
       "      <td>0.344104</td>\n",
       "      <td>-0.683550</td>\n",
       "      <td>1.605051</td>\n",
       "      <td>-0.660497</td>\n",
       "      <td>-1.664085</td>\n",
       "      <td>-1.47996</td>\n",
       "      <td>-1.241271</td>\n",
       "      <td>-1.227569</td>\n",
       "      <td>0.49947</td>\n",
       "    </tr>\n",
       "    <tr>\n",
       "      <th>3</th>\n",
       "      <td>-1.735323</td>\n",
       "      <td>0.517595</td>\n",
       "      <td>-0.457466</td>\n",
       "      <td>0.088614</td>\n",
       "      <td>-0.005659</td>\n",
       "      <td>-0.744480</td>\n",
       "      <td>2.092525</td>\n",
       "      <td>2.110807</td>\n",
       "      <td>1.100144</td>\n",
       "      <td>0.331800</td>\n",
       "      <td>-0.681908</td>\n",
       "      <td>1.380189</td>\n",
       "      <td>-0.866359</td>\n",
       "      <td>-1.664085</td>\n",
       "      <td>-1.47996</td>\n",
       "      <td>-1.241271</td>\n",
       "      <td>-1.083088</td>\n",
       "      <td>0.49947</td>\n",
       "    </tr>\n",
       "    <tr>\n",
       "      <th>4</th>\n",
       "      <td>-1.798519</td>\n",
       "      <td>0.522229</td>\n",
       "      <td>-0.288478</td>\n",
       "      <td>0.201517</td>\n",
       "      <td>-0.153957</td>\n",
       "      <td>-0.700187</td>\n",
       "      <td>1.710746</td>\n",
       "      <td>2.076005</td>\n",
       "      <td>1.151911</td>\n",
       "      <td>-0.356518</td>\n",
       "      <td>-0.681908</td>\n",
       "      <td>1.275358</td>\n",
       "      <td>-0.853492</td>\n",
       "      <td>-1.664085</td>\n",
       "      <td>-1.47996</td>\n",
       "      <td>-1.241271</td>\n",
       "      <td>-0.938607</td>\n",
       "      <td>0.49947</td>\n",
       "    </tr>\n",
       "  </tbody>\n",
       "</table>\n",
       "</div>"
      ],
      "text/plain": [
       "         AT        BP        CO        NO       NO2     Ozone      PM10  \\\n",
       "0 -1.572818  0.517595 -0.987475  0.399260  0.253531 -0.735354  1.550534   \n",
       "1 -1.682444  0.517595 -0.887619  0.672918  0.033743 -0.749154  1.552551   \n",
       "2 -1.701790  0.517595 -0.803124  0.517207  0.040061 -0.730457  2.352010   \n",
       "3 -1.735323  0.517595 -0.457466  0.088614 -0.005659 -0.744480  2.092525   \n",
       "4 -1.798519  0.522229 -0.288478  0.201517 -0.153957 -0.700187  1.710746   \n",
       "\n",
       "      PM2.5        RH       SO2        SR        WD        WS         d  \\\n",
       "0  1.936797  0.841307 -0.032523 -0.679493  1.454357 -0.699096 -1.664085   \n",
       "1  2.110807  1.022493  0.344787 -0.680266  1.266710 -0.866359 -1.664085   \n",
       "2  2.110807  1.078919  0.344104 -0.683550  1.605051 -0.660497 -1.664085   \n",
       "3  2.110807  1.100144  0.331800 -0.681908  1.380189 -0.866359 -1.664085   \n",
       "4  2.076005  1.151911 -0.356518 -0.681908  1.275358 -0.853492 -1.664085   \n",
       "\n",
       "        mt        yr         H  weekday  \n",
       "0 -1.47996 -1.241271 -1.516531  0.49947  \n",
       "1 -1.47996 -1.241271 -1.372050  0.49947  \n",
       "2 -1.47996 -1.241271 -1.227569  0.49947  \n",
       "3 -1.47996 -1.241271 -1.083088  0.49947  \n",
       "4 -1.47996 -1.241271 -0.938607  0.49947  "
      ]
     },
     "execution_count": 240,
     "metadata": {},
     "output_type": "execute_result"
    }
   ],
   "source": []
  },
  {
   "cell_type": "code",
   "execution_count": null,
   "metadata": {},
   "outputs": [],
   "source": []
  },
  {
   "cell_type": "code",
   "execution_count": null,
   "metadata": {},
   "outputs": [],
   "source": []
  }
 ],
 "metadata": {
  "kernelspec": {
   "display_name": "Python 3",
   "language": "python",
   "name": "python3"
  },
  "language_info": {
   "codemirror_mode": {
    "name": "ipython",
    "version": 3
   },
   "file_extension": ".py",
   "mimetype": "text/x-python",
   "name": "python",
   "nbconvert_exporter": "python",
   "pygments_lexer": "ipython3",
   "version": "3.6.5"
  }
 },
 "nbformat": 4,
 "nbformat_minor": 2
}
